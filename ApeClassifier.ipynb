{
  "nbformat": 4,
  "nbformat_minor": 0,
  "metadata": {
    "colab": {
      "name": "ApeClassifier.ipynb",
      "provenance": [],
      "collapsed_sections": []
    },
    "kernelspec": {
      "name": "python3",
      "display_name": "Python 3"
    }
  },
  "cells": [
    {
      "cell_type": "markdown",
      "metadata": {
        "id": "_o_fKaeHOZ0F",
        "colab_type": "text"
      },
      "source": [
        "### **APE CLASSIFIER**\n",
        "This is a neural network application to classify an uploaded image of an ape into 1 of the 4 categories (chimpanzee, gorilla, gibbon, orangutan). Have fun!\n"
      ]
    },
    {
      "cell_type": "code",
      "metadata": {
        "id": "Gt-U2P6jOCF4",
        "colab_type": "code",
        "colab": {}
      },
      "source": [
        "path = Path()\n",
        "learn_inf = load_learner(path/'export.pkl', cpu=True)"
      ],
      "execution_count": null,
      "outputs": []
    },
    {
      "cell_type": "code",
      "metadata": {
        "id": "Fxe9MxIIOEwB",
        "colab_type": "code",
        "colab": {}
      },
      "source": [
        "btn_upload = widgets.FileUpload()\n",
        "btn_classify = widgets.Button(description='Classify')\n",
        "pred_label = widgets.Label()\n",
        "out_pl = widgets.Output()\n",
        "\n",
        "def on_click_classify(change):\n",
        "    img = PILImage.create(btn_upload.data[-1])\n",
        "    out_pl.clear_output()\n",
        "    with out_pl: display(img.to_thumb(250))\n",
        "    pred, idx, probs = learn_inf.predict(img)\n",
        "    pred_label.value = f'Prediction: {pred} & Probabilty: {probs[idx]:.04f}'\n",
        "\n",
        "btn_classify.on_click(on_click_classify)"
      ],
      "execution_count": null,
      "outputs": []
    },
    {
      "cell_type": "code",
      "metadata": {
        "id": "2FOR4IMCOFAG",
        "colab_type": "code",
        "colab": {}
      },
      "source": [
        "VBox([btn_upload, btn_classify, out_pl, pred_label])"
      ],
      "execution_count": null,
      "outputs": []
    }
  ]
}